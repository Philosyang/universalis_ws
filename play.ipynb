{
 "cells": [
  {
   "cell_type": "code",
   "execution_count": 1,
   "metadata": {},
   "outputs": [],
   "source": [
    "from pymongo.mongo_client import MongoClient\n",
    "from pymongo.server_api import ServerApi\n",
    "from datetime import datetime, timedelta\n",
    "import pandas as pd\n",
    "from urllib.request import urlopen\n",
    "import json"
   ]
  },
  {
   "cell_type": "code",
   "execution_count": 2,
   "metadata": {},
   "outputs": [],
   "source": [
    "def nameLookup(itemID):\n",
    "    itemURL = \"https://cafemaker.wakingsands.com/item/\" + str(itemID)\n",
    "    itemInfoRaw = urlopen(itemURL).read().decode('utf-8')\n",
    "    # print(itemInfoRaw)\n",
    "    itemInfo = json.loads(itemInfoRaw)\n",
    "    return itemInfo['Name']"
   ]
  },
  {
   "cell_type": "code",
   "execution_count": 3,
   "metadata": {},
   "outputs": [],
   "source": [
    "# query = { 'itemID': 36258 }"
   ]
  },
  {
   "cell_type": "code",
   "execution_count": 4,
   "metadata": {},
   "outputs": [],
   "source": [
    "one_day_ago = datetime.utcnow() - timedelta(hours=24)\n",
    "one_week_ago = datetime.utcnow() - timedelta(days=7)"
   ]
  },
  {
   "cell_type": "code",
   "execution_count": 5,
   "metadata": {},
   "outputs": [],
   "source": [
    "pipeline = [\n",
    "    {\n",
    "        \"$match\": {\n",
    "            \"lastUploadTime\": {\"$gte\": one_day_ago}\n",
    "        }\n",
    "    },\n",
    "    {\n",
    "        \"$group\": {\n",
    "            \"_id\": \"$itemID\",\n",
    "            \"viewCount\": {\"$sum\": 1}\n",
    "        }\n",
    "    },\n",
    "    {\n",
    "        \"$sort\": {\"viewCount\": -1}\n",
    "    },\n",
    "    {\n",
    "        \"$limit\": 10\n",
    "    },\n",
    "    {\n",
    "        \"$project\": {\n",
    "            \"itemID\": \"$_id\",\n",
    "            \"viewCount\": \"$viewCount\",\n",
    "            \"_id\": 0\n",
    "        }\n",
    "    }\n",
    "]"
   ]
  },
  {
   "cell_type": "code",
   "execution_count": 6,
   "metadata": {},
   "outputs": [],
   "source": [
    "uri = 'put uri in file mongo_uri'\n",
    "with open('mongo_uri', 'r') as reader:\n",
    "    uri = reader.read()\n",
    "client = MongoClient(uri, server_api=ServerApi('1'))\n",
    "db = client[\"universalis\"]\n",
    "collection = db[\"ws\"]\n",
    "\n",
    "# cursor = collection.find(query, {\"_id\": 0})\n",
    "# for i in cursor:\n",
    "#     print(i)\n",
    "\n",
    "result = list(collection.aggregate(pipeline))\n",
    "# print(result)"
   ]
  },
  {
   "cell_type": "code",
   "execution_count": 7,
   "metadata": {},
   "outputs": [],
   "source": [
    "df = pd.DataFrame(result)\n",
    "name = []\n",
    "for i in df['itemID']:\n",
    "    n = nameLookup(i)\n",
    "    # print(n)\n",
    "    name.append(n)\n",
    "df['name'] = name"
   ]
  },
  {
   "cell_type": "code",
   "execution_count": 8,
   "metadata": {},
   "outputs": [
    {
     "data": {
      "text/html": [
       "<div>\n",
       "<style scoped>\n",
       "    .dataframe tbody tr th:only-of-type {\n",
       "        vertical-align: middle;\n",
       "    }\n",
       "\n",
       "    .dataframe tbody tr th {\n",
       "        vertical-align: top;\n",
       "    }\n",
       "\n",
       "    .dataframe thead th {\n",
       "        text-align: right;\n",
       "    }\n",
       "</style>\n",
       "<table border=\"1\" class=\"dataframe\">\n",
       "  <thead>\n",
       "    <tr style=\"text-align: right;\">\n",
       "      <th></th>\n",
       "      <th>itemID</th>\n",
       "      <th>name</th>\n",
       "      <th>viewCount</th>\n",
       "    </tr>\n",
       "  </thead>\n",
       "  <tbody>\n",
       "    <tr>\n",
       "      <th>0</th>\n",
       "      <td>39591</td>\n",
       "      <td>陈旧的蛇牛革地图</td>\n",
       "      <td>212</td>\n",
       "    </tr>\n",
       "    <tr>\n",
       "      <th>1</th>\n",
       "      <td>36612</td>\n",
       "      <td>陈旧的金毗罗鳄革地图</td>\n",
       "      <td>167</td>\n",
       "    </tr>\n",
       "    <tr>\n",
       "      <th>2</th>\n",
       "      <td>17836</td>\n",
       "      <td>陈旧的瞪羚革地图</td>\n",
       "      <td>90</td>\n",
       "    </tr>\n",
       "    <tr>\n",
       "      <th>3</th>\n",
       "      <td>6692</td>\n",
       "      <td>陈旧的毒蜥蜴革地图</td>\n",
       "      <td>85</td>\n",
       "    </tr>\n",
       "    <tr>\n",
       "      <th>4</th>\n",
       "      <td>39872</td>\n",
       "      <td>烧烤暗色茄子</td>\n",
       "      <td>68</td>\n",
       "    </tr>\n",
       "    <tr>\n",
       "      <th>5</th>\n",
       "      <td>39706</td>\n",
       "      <td>软银矿</td>\n",
       "      <td>61</td>\n",
       "    </tr>\n",
       "    <tr>\n",
       "      <th>6</th>\n",
       "      <td>38936</td>\n",
       "      <td>地鸣灵砂</td>\n",
       "      <td>52</td>\n",
       "    </tr>\n",
       "    <tr>\n",
       "      <th>7</th>\n",
       "      <td>39709</td>\n",
       "      <td>油菜花</td>\n",
       "      <td>49</td>\n",
       "    </tr>\n",
       "    <tr>\n",
       "      <th>8</th>\n",
       "      <td>36260</td>\n",
       "      <td>彩蝶鳞粉</td>\n",
       "      <td>48</td>\n",
       "    </tr>\n",
       "    <tr>\n",
       "      <th>9</th>\n",
       "      <td>40700</td>\n",
       "      <td>轻柔棉布</td>\n",
       "      <td>46</td>\n",
       "    </tr>\n",
       "  </tbody>\n",
       "</table>\n",
       "</div>"
      ],
      "text/plain": [
       "   itemID        name  viewCount\n",
       "0   39591    陈旧的蛇牛革地图        212\n",
       "1   36612  陈旧的金毗罗鳄革地图        167\n",
       "2   17836    陈旧的瞪羚革地图         90\n",
       "3    6692   陈旧的毒蜥蜴革地图         85\n",
       "4   39872      烧烤暗色茄子         68\n",
       "5   39706         软银矿         61\n",
       "6   38936        地鸣灵砂         52\n",
       "7   39709         油菜花         49\n",
       "8   36260        彩蝶鳞粉         48\n",
       "9   40700        轻柔棉布         46"
      ]
     },
     "execution_count": 8,
     "metadata": {},
     "output_type": "execute_result"
    }
   ],
   "source": [
    "df[['itemID', 'name', 'viewCount']]"
   ]
  },
  {
   "cell_type": "code",
   "execution_count": null,
   "metadata": {},
   "outputs": [],
   "source": []
  }
 ],
 "metadata": {
  "kernelspec": {
   "display_name": ".venv",
   "language": "python",
   "name": "python3"
  },
  "language_info": {
   "codemirror_mode": {
    "name": "ipython",
    "version": 3
   },
   "file_extension": ".py",
   "mimetype": "text/x-python",
   "name": "python",
   "nbconvert_exporter": "python",
   "pygments_lexer": "ipython3",
   "version": "3.11.5"
  }
 },
 "nbformat": 4,
 "nbformat_minor": 2
}

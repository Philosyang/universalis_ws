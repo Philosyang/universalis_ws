{
 "cells": [
  {
   "cell_type": "code",
   "execution_count": 100,
   "metadata": {},
   "outputs": [],
   "source": [
    "from pymongo.mongo_client import MongoClient\n",
    "from pymongo.server_api import ServerApi\n",
    "from datetime import datetime, timedelta\n",
    "import pandas as pd\n",
    "from urllib.request import urlopen\n",
    "import json"
   ]
  },
  {
   "cell_type": "code",
   "execution_count": 101,
   "metadata": {},
   "outputs": [],
   "source": [
    "def nameLookup(itemID):\n",
    "    itemURL = \"https://cafemaker.wakingsands.com/item/\" + str(itemID)\n",
    "    itemInfoRaw = urlopen(itemURL).read().decode('utf-8')\n",
    "    # print(itemInfoRaw)\n",
    "    itemInfo = json.loads(itemInfoRaw)\n",
    "    return itemInfo['Name']"
   ]
  },
  {
   "cell_type": "code",
   "execution_count": 102,
   "metadata": {},
   "outputs": [],
   "source": [
    "# query = { 'itemID': 36258 }"
   ]
  },
  {
   "cell_type": "code",
   "execution_count": 103,
   "metadata": {},
   "outputs": [],
   "source": [
    "one_day_ago = datetime.utcnow() - timedelta(hours=24)\n",
    "one_week_ago = datetime.utcnow() - timedelta(days=7)"
   ]
  },
  {
   "cell_type": "code",
   "execution_count": 104,
   "metadata": {},
   "outputs": [],
   "source": [
    "pipeline = [\n",
    "    {\n",
    "        \"$match\": {\n",
    "            \"lastUploadTime\": {\"$gte\": one_day_ago}\n",
    "        }\n",
    "    },\n",
    "    {\n",
    "        \"$group\": {\n",
    "            \"_id\": \"$itemID\",\n",
    "            \"viewCount\": {\"$sum\": 1}\n",
    "        }\n",
    "    },\n",
    "    {\n",
    "        \"$sort\": {\"viewCount\": -1}\n",
    "    },\n",
    "    {\n",
    "        \"$limit\": 5\n",
    "    },\n",
    "    {\n",
    "        \"$project\": {\n",
    "            \"itemID\": \"$_id\",\n",
    "            \"viewCount\": \"$viewCount\",\n",
    "            \"_id\": 0\n",
    "        }\n",
    "    }\n",
    "]"
   ]
  },
  {
   "cell_type": "code",
   "execution_count": 105,
   "metadata": {},
   "outputs": [],
   "source": [
    "uri = 'put uri in file mongo_uri'\n",
    "with open('mongo_uri', 'r') as reader:\n",
    "    uri = reader.read()\n",
    "client = MongoClient(uri, server_api=ServerApi('1'))\n",
    "db = client[\"universalis\"]\n",
    "collection = db[\"ws\"]\n",
    "\n",
    "# cursor = collection.find(query, {\"_id\": 0})\n",
    "# for i in cursor:\n",
    "#     print(i)\n",
    "\n",
    "result = list(collection.aggregate(pipeline))\n",
    "# print(result)"
   ]
  },
  {
   "cell_type": "code",
   "execution_count": 106,
   "metadata": {},
   "outputs": [],
   "source": [
    "df = pd.DataFrame(result)\n",
    "name = []\n",
    "for i in df['itemID']:\n",
    "    n = nameLookup(i)\n",
    "    # print(n)\n",
    "    name.append(n)\n",
    "df['name'] = name"
   ]
  },
  {
   "cell_type": "code",
   "execution_count": 107,
   "metadata": {},
   "outputs": [
    {
     "data": {
      "text/html": [
       "<div>\n",
       "<style scoped>\n",
       "    .dataframe tbody tr th:only-of-type {\n",
       "        vertical-align: middle;\n",
       "    }\n",
       "\n",
       "    .dataframe tbody tr th {\n",
       "        vertical-align: top;\n",
       "    }\n",
       "\n",
       "    .dataframe thead th {\n",
       "        text-align: right;\n",
       "    }\n",
       "</style>\n",
       "<table border=\"1\" class=\"dataframe\">\n",
       "  <thead>\n",
       "    <tr style=\"text-align: right;\">\n",
       "      <th></th>\n",
       "      <th>itemID</th>\n",
       "      <th>name</th>\n",
       "      <th>viewCount</th>\n",
       "    </tr>\n",
       "  </thead>\n",
       "  <tbody>\n",
       "    <tr>\n",
       "      <th>0</th>\n",
       "      <td>39720</td>\n",
       "      <td>石榴红棉布</td>\n",
       "      <td>6</td>\n",
       "    </tr>\n",
       "    <tr>\n",
       "      <th>1</th>\n",
       "      <td>31091</td>\n",
       "      <td>南洋织物</td>\n",
       "      <td>6</td>\n",
       "    </tr>\n",
       "    <tr>\n",
       "      <th>2</th>\n",
       "      <td>8841</td>\n",
       "      <td>雇员幻想药</td>\n",
       "      <td>6</td>\n",
       "    </tr>\n",
       "    <tr>\n",
       "      <th>3</th>\n",
       "      <td>12537</td>\n",
       "      <td>白钛矿</td>\n",
       "      <td>5</td>\n",
       "    </tr>\n",
       "    <tr>\n",
       "      <th>4</th>\n",
       "      <td>39706</td>\n",
       "      <td>软银矿</td>\n",
       "      <td>4</td>\n",
       "    </tr>\n",
       "  </tbody>\n",
       "</table>\n",
       "</div>"
      ],
      "text/plain": [
       "   itemID   name  viewCount\n",
       "0   39720  石榴红棉布          6\n",
       "1   31091   南洋织物          6\n",
       "2    8841  雇员幻想药          6\n",
       "3   12537    白钛矿          5\n",
       "4   39706    软银矿          4"
      ]
     },
     "execution_count": 107,
     "metadata": {},
     "output_type": "execute_result"
    }
   ],
   "source": [
    "df[['itemID', 'name', 'viewCount']]"
   ]
  },
  {
   "cell_type": "code",
   "execution_count": null,
   "metadata": {},
   "outputs": [],
   "source": []
  }
 ],
 "metadata": {
  "kernelspec": {
   "display_name": ".venv",
   "language": "python",
   "name": "python3"
  },
  "language_info": {
   "codemirror_mode": {
    "name": "ipython",
    "version": 3
   },
   "file_extension": ".py",
   "mimetype": "text/x-python",
   "name": "python",
   "nbconvert_exporter": "python",
   "pygments_lexer": "ipython3",
   "version": "3.11.5"
  }
 },
 "nbformat": 4,
 "nbformat_minor": 2
}
